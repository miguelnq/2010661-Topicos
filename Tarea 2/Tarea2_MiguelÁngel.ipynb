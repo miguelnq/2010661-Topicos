{
 "cells": [
  {
   "cell_type": "markdown",
   "metadata": {
    "id": "gPqjk8eMesVD"
   },
   "source": [
    "# Tópicos Avanzados de Estadística\r\n",
    "\r\n",
    "## Tarea 2: Entendiendo Jupyter Lab, Github, Python y Regresión Lineal\r\n",
    "\r\n",
    "### Presentado por: \r\n",
    "- Miguel Ángel Quintero\r\n",
    "            "
   ]
  },
  {
   "cell_type": "markdown",
   "metadata": {
    "id": "vRMxoZ7we9YL"
   },
   "source": [
    "#1. Introducción\r\n",
    "En la actualiadad cualquier tipo de proceso nos brinda información, tal como la temperatura, presión, ratio de consumo, etc. Muchas de estas variables se encuentran en intervalos de tiempo, o en distintas cantidades, y en muchas ocasiones despues de un análisis o una medición, se obtiene una variable respuesta. El objetivo es usualmente intentar utilizar estas variables y el análisis realizado sobre estas para reproducir un experimento, intentar mejorarlo, y obtener resultados deseados (Draper & Smith, 1998).\r\n",
    "\r\n",
    "Los modelos de regresión son técnicas que pueden ser usadas en este tipo de situaciones. En particular, las regresiones lineales intentan modelar un conjunto de variables independientes mediante una relación lineal con una variable dependiente. Este tipo de modelamientos permiten tanto inferencias sobre las variables y su naturaleza, como tambien permiten realizar predicciones cuando el modelo parece describir muy bien el comportamiento. En este sentido, estudiar estos modelos es de gran importancia, ya que al ser el modelo más sencillo de regresión, es ampliamente usado por cualquier persona independientemente de su industría. Un ejemplo de su amplia aplicación es en el Machine Learning, donde muchos modelos buscan hacer predicciones apartir de una regresión lineal sobre las variables descritas.\r\n",
    "\r\n",
    "En este sentido, este documento presenta de manera general los fundamentos teoricos y un ejemplo de aplicación de la regresión lineal. Para este proposito, este documento se organiza de la siguiente manera; primero, se presenta una breve historia de la regresión lineal y sus origenes; segundo, se realiza el planteamiento teórico del algoritmo; tercero, se presenta un ejemplo de regresión lineal en Python; y finalmente, se presentan las conclusiones de este trabajo."
   ]
  },
  {
   "cell_type": "markdown",
   "metadata": {
    "id": "_oYksnyrW_Eh"
   },
   "source": [
    "# 2. Historia\r\n",
    "Las primeras formas de regresión fue el método de mínimos cuadrados, el cual fue desarrollado en el área de astronomía, ya que los cientificos buscaban dar soluciones a los distintos desafios de la navegación en los oceanos. Era necesario que estas descripciones tuvieran una gran descripción del comportamiento de los cuerpos celestes, ya que eran el pilar para que los barcos pudiesen navegar en oceanos abiertos, donde los marineros no podían observar nada. [Wikipedia - Least Squares](https://en.wikipedia.org/wiki/Least_squares).\r\n",
    "\r\n",
    "El término regresión fue utilizado por Francis Galton en el siglo diecinueve para describir fenomenos biologicos. Si bien inicialmente sus métodos eran únicamente para la biología, poco a poco empezaron a extenderse a un  contexto más general estadístico. Finalmente en el siglo veinte empezó a utilizarse de manera mucho más generalizada por los economistas por medio de la tecnología que permitia realizar las regresiones de manera mucho más rapida.\r\n",
    "\r\n",
    "Actualmetne los modelos de regresión, y en particular la regresión lineal, se utilizan en una gran diversidad de áreas. Su uso se ha extendido ampliamente en el Machine Learning para predicciones sin necesariamente tener un background estadístico."
   ]
  },
  {
   "cell_type": "markdown",
   "metadata": {
    "id": "0iO4wm4ZXEzv"
   },
   "source": [
    "# 3. Planteamiento\r\n",
    "\r\n",
    "#3.1. El modelo de regresión\r\n",
    "Dado un conjunto de datos $\\{y_{i}, x_{i1},\\dots,x_{in}\\}_{i=1}^{N}$, el modelo de regresión asume que existe una relación lineal entre la variable *dependiente* $y$ con las variables *independientes* $x$. Esta relación se modela por medio de un término de error $\\varepsilon_{i}$, el cual es una variable aletoria que agrega un parámetro de ruido a dicha relación. Por lo cual, de manera general, el modelo puede tomar la siguiente forma [[Linear Regression - Wikipedia]](https://en.wikipedia.org/wiki/Linear_regression#Introduction):\r\n",
    "\r\n",
    "$$y_{i}=\\beta_0+\\beta_0x_{i1}+\\dots+\\beta_{n} x_{in}+\\varepsilon_{i}\\quad\\text{, }i=1,\\dots,n$$\r\n",
    "\r\n",
    "O de manera matricial:\r\n",
    "$$\\mathbf{Y}=\\mathbf{X}\\mathbf{\\beta}+\\mathbf{\\varepsilon}$$\r\n",
    "\r\n",
    "Por lo cual, el objetivo del modelo lineal es encontrar el valor de los parámetros $\\beta$ y describir la relación entre las dos variables.\r\n",
    "\r\n",
    "## 3.2. Estimación de los parámetros\r\n",
    "\r\n",
    "Para la estimación de los parámetros, se puede utilizar el método de minimos cuadrados. En este caso, el método lo que busca es minimizar la siguiente ecuación para el modelo lineal simple (Hocking, 2013):\r\n",
    "\r\n",
    "$$Q(\\beta_{0},\\beta_{1})=\\sum_{i=1}^{N}(y_{i}-\\beta_{0}-\\beta_{1}x_{i})^{2}$$\r\n",
    "\r\n",
    "Dicha minimización se lleva acabo realizando las derivadas parciales de la función $Q(\\beta_{0},\\beta_{1})$ e igualando a 0, de tal manera que:\r\n",
    "\r\n",
    "$$\\frac{\\partial Q}{\\partial \\beta_{0}}=0\\quad\\text{y}\\quad\\frac{\\partial Q}{\\partial \\beta_{1}}=0$$\r\n",
    "\r\n",
    "De esta manera, se obtiene que los parámetros serán igual a:\r\n",
    "\r\n",
    "$$\\hat{\\beta}_{0}= \\frac{1}{N}\\sum_{i=1}^{N}(y_{i}-\\beta_{1}x_{i})\\\\\r\n",
    "\\hat{\\beta}_{1}= \\frac{S_{xy}}{S_{xx}}$$\r\n",
    "\r\n",
    "\r\n",
    "Dichos resultados se pueden generalizar a N variables, no obstante, la metodología es análoga. Así, finalmente, se obtiene que la regresión lineal estará dada por la siguiente ecuación:\r\n",
    "\r\n",
    "$$\\hat{y}=\\hat{\\beta}_{0}+\\hat{\\beta}_{1}x$$\r\n",
    "\r\n",
    "A modo de ejemplo, [la siguiente gráfica](https://en.wikipedia.org/wiki/Linear_regression#/media/File:Linear_regression.svg) presenta un una regresión lineal para un conjunto de datos. En este caso, cuando se realiza una regresión con una sola variable independiente, se le llama regresión lineal simple. \r\n",
    "\r\n",
    "![350px-Linear_regression.svg.png](data:image/png;base64,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)\r\n"
   ]
  },
  {
   "cell_type": "markdown",
   "metadata": {
    "id": "PLnqwyuGXPhI"
   },
   "source": [
    "# 4. Ejemplo de regresión lineal"
   ]
  },
  {
   "cell_type": "markdown",
   "metadata": {
    "id": "Ulvj6StyCRkg"
   },
   "source": [
    "En la primera celda se importan las siguientes librerias:\r\n",
    "\r\n",
    "- **Numpy**: Para el manejo de arreglos.\r\n",
    "- **Matplotlib**: Para la visualización de la regresión lineal.\r\n",
    "- **Pandas**: Para el manejo del dataframe.\r\n",
    "- **sklearn**: Para usar los datasets ahí incluidos para el ejemplo y la posterior regresión lineal.\r\n",
    "\r\n",
    "\r\n",
    "En primer lugar se realiza la carga del dataset boston. Este dataset nos dice el precio de las casas de boston según otras 13 variables. En este caso, solo nos enfocaremos en la variable *LSTAT* que nos indica la proporción de la población que tiene un estatus menor, esto es, la proporción de adultos sin una educación secundaria entre otros factores. De esta manera el ejemplo corresponderá a una regresión lineal simple.\r\n",
    "\r\n",
    "Una vez se importa el dataset, por medio de pandas se convierte en un dataframe para facilitar su manejo."
   ]
  },
  {
   "cell_type": "code",
   "execution_count": 82,
   "metadata": {
    "colab": {
     "base_uri": "https://localhost:8080/",
     "height": 402
    },
    "id": "BRAX4_hyXWLB",
    "outputId": "d002c475-02cd-42dc-eb65-22f6b2329fd6"
   },
   "outputs": [
    {
     "data": {
      "text/html": [
       "<div>\n",
       "<style scoped>\n",
       "    .dataframe tbody tr th:only-of-type {\n",
       "        vertical-align: middle;\n",
       "    }\n",
       "\n",
       "    .dataframe tbody tr th {\n",
       "        vertical-align: top;\n",
       "    }\n",
       "\n",
       "    .dataframe thead th {\n",
       "        text-align: right;\n",
       "    }\n",
       "</style>\n",
       "<table border=\"1\" class=\"dataframe\">\n",
       "  <thead>\n",
       "    <tr style=\"text-align: right;\">\n",
       "      <th></th>\n",
       "      <th>CRIM</th>\n",
       "      <th>ZN</th>\n",
       "      <th>INDUS</th>\n",
       "      <th>CHAS</th>\n",
       "      <th>NOX</th>\n",
       "      <th>RM</th>\n",
       "      <th>AGE</th>\n",
       "      <th>DIS</th>\n",
       "      <th>RAD</th>\n",
       "      <th>TAX</th>\n",
       "      <th>PTRATIO</th>\n",
       "      <th>B</th>\n",
       "      <th>LSTAT</th>\n",
       "    </tr>\n",
       "  </thead>\n",
       "  <tbody>\n",
       "    <tr>\n",
       "      <th>0</th>\n",
       "      <td>0.00632</td>\n",
       "      <td>18.0</td>\n",
       "      <td>2.31</td>\n",
       "      <td>0.0</td>\n",
       "      <td>0.538</td>\n",
       "      <td>6.575</td>\n",
       "      <td>65.2</td>\n",
       "      <td>4.0900</td>\n",
       "      <td>1.0</td>\n",
       "      <td>296.0</td>\n",
       "      <td>15.3</td>\n",
       "      <td>396.90</td>\n",
       "      <td>4.98</td>\n",
       "    </tr>\n",
       "    <tr>\n",
       "      <th>1</th>\n",
       "      <td>0.02731</td>\n",
       "      <td>0.0</td>\n",
       "      <td>7.07</td>\n",
       "      <td>0.0</td>\n",
       "      <td>0.469</td>\n",
       "      <td>6.421</td>\n",
       "      <td>78.9</td>\n",
       "      <td>4.9671</td>\n",
       "      <td>2.0</td>\n",
       "      <td>242.0</td>\n",
       "      <td>17.8</td>\n",
       "      <td>396.90</td>\n",
       "      <td>9.14</td>\n",
       "    </tr>\n",
       "    <tr>\n",
       "      <th>2</th>\n",
       "      <td>0.02729</td>\n",
       "      <td>0.0</td>\n",
       "      <td>7.07</td>\n",
       "      <td>0.0</td>\n",
       "      <td>0.469</td>\n",
       "      <td>7.185</td>\n",
       "      <td>61.1</td>\n",
       "      <td>4.9671</td>\n",
       "      <td>2.0</td>\n",
       "      <td>242.0</td>\n",
       "      <td>17.8</td>\n",
       "      <td>392.83</td>\n",
       "      <td>4.03</td>\n",
       "    </tr>\n",
       "    <tr>\n",
       "      <th>3</th>\n",
       "      <td>0.03237</td>\n",
       "      <td>0.0</td>\n",
       "      <td>2.18</td>\n",
       "      <td>0.0</td>\n",
       "      <td>0.458</td>\n",
       "      <td>6.998</td>\n",
       "      <td>45.8</td>\n",
       "      <td>6.0622</td>\n",
       "      <td>3.0</td>\n",
       "      <td>222.0</td>\n",
       "      <td>18.7</td>\n",
       "      <td>394.63</td>\n",
       "      <td>2.94</td>\n",
       "    </tr>\n",
       "    <tr>\n",
       "      <th>4</th>\n",
       "      <td>0.06905</td>\n",
       "      <td>0.0</td>\n",
       "      <td>2.18</td>\n",
       "      <td>0.0</td>\n",
       "      <td>0.458</td>\n",
       "      <td>7.147</td>\n",
       "      <td>54.2</td>\n",
       "      <td>6.0622</td>\n",
       "      <td>3.0</td>\n",
       "      <td>222.0</td>\n",
       "      <td>18.7</td>\n",
       "      <td>396.90</td>\n",
       "      <td>5.33</td>\n",
       "    </tr>\n",
       "    <tr>\n",
       "      <th>...</th>\n",
       "      <td>...</td>\n",
       "      <td>...</td>\n",
       "      <td>...</td>\n",
       "      <td>...</td>\n",
       "      <td>...</td>\n",
       "      <td>...</td>\n",
       "      <td>...</td>\n",
       "      <td>...</td>\n",
       "      <td>...</td>\n",
       "      <td>...</td>\n",
       "      <td>...</td>\n",
       "      <td>...</td>\n",
       "      <td>...</td>\n",
       "    </tr>\n",
       "    <tr>\n",
       "      <th>501</th>\n",
       "      <td>0.06263</td>\n",
       "      <td>0.0</td>\n",
       "      <td>11.93</td>\n",
       "      <td>0.0</td>\n",
       "      <td>0.573</td>\n",
       "      <td>6.593</td>\n",
       "      <td>69.1</td>\n",
       "      <td>2.4786</td>\n",
       "      <td>1.0</td>\n",
       "      <td>273.0</td>\n",
       "      <td>21.0</td>\n",
       "      <td>391.99</td>\n",
       "      <td>9.67</td>\n",
       "    </tr>\n",
       "    <tr>\n",
       "      <th>502</th>\n",
       "      <td>0.04527</td>\n",
       "      <td>0.0</td>\n",
       "      <td>11.93</td>\n",
       "      <td>0.0</td>\n",
       "      <td>0.573</td>\n",
       "      <td>6.120</td>\n",
       "      <td>76.7</td>\n",
       "      <td>2.2875</td>\n",
       "      <td>1.0</td>\n",
       "      <td>273.0</td>\n",
       "      <td>21.0</td>\n",
       "      <td>396.90</td>\n",
       "      <td>9.08</td>\n",
       "    </tr>\n",
       "    <tr>\n",
       "      <th>503</th>\n",
       "      <td>0.06076</td>\n",
       "      <td>0.0</td>\n",
       "      <td>11.93</td>\n",
       "      <td>0.0</td>\n",
       "      <td>0.573</td>\n",
       "      <td>6.976</td>\n",
       "      <td>91.0</td>\n",
       "      <td>2.1675</td>\n",
       "      <td>1.0</td>\n",
       "      <td>273.0</td>\n",
       "      <td>21.0</td>\n",
       "      <td>396.90</td>\n",
       "      <td>5.64</td>\n",
       "    </tr>\n",
       "    <tr>\n",
       "      <th>504</th>\n",
       "      <td>0.10959</td>\n",
       "      <td>0.0</td>\n",
       "      <td>11.93</td>\n",
       "      <td>0.0</td>\n",
       "      <td>0.573</td>\n",
       "      <td>6.794</td>\n",
       "      <td>89.3</td>\n",
       "      <td>2.3889</td>\n",
       "      <td>1.0</td>\n",
       "      <td>273.0</td>\n",
       "      <td>21.0</td>\n",
       "      <td>393.45</td>\n",
       "      <td>6.48</td>\n",
       "    </tr>\n",
       "    <tr>\n",
       "      <th>505</th>\n",
       "      <td>0.04741</td>\n",
       "      <td>0.0</td>\n",
       "      <td>11.93</td>\n",
       "      <td>0.0</td>\n",
       "      <td>0.573</td>\n",
       "      <td>6.030</td>\n",
       "      <td>80.8</td>\n",
       "      <td>2.5050</td>\n",
       "      <td>1.0</td>\n",
       "      <td>273.0</td>\n",
       "      <td>21.0</td>\n",
       "      <td>396.90</td>\n",
       "      <td>7.88</td>\n",
       "    </tr>\n",
       "  </tbody>\n",
       "</table>\n",
       "<p>506 rows × 13 columns</p>\n",
       "</div>"
      ],
      "text/plain": [
       "        CRIM    ZN  INDUS  CHAS    NOX  ...  RAD    TAX  PTRATIO       B  LSTAT\n",
       "0    0.00632  18.0   2.31   0.0  0.538  ...  1.0  296.0     15.3  396.90   4.98\n",
       "1    0.02731   0.0   7.07   0.0  0.469  ...  2.0  242.0     17.8  396.90   9.14\n",
       "2    0.02729   0.0   7.07   0.0  0.469  ...  2.0  242.0     17.8  392.83   4.03\n",
       "3    0.03237   0.0   2.18   0.0  0.458  ...  3.0  222.0     18.7  394.63   2.94\n",
       "4    0.06905   0.0   2.18   0.0  0.458  ...  3.0  222.0     18.7  396.90   5.33\n",
       "..       ...   ...    ...   ...    ...  ...  ...    ...      ...     ...    ...\n",
       "501  0.06263   0.0  11.93   0.0  0.573  ...  1.0  273.0     21.0  391.99   9.67\n",
       "502  0.04527   0.0  11.93   0.0  0.573  ...  1.0  273.0     21.0  396.90   9.08\n",
       "503  0.06076   0.0  11.93   0.0  0.573  ...  1.0  273.0     21.0  396.90   5.64\n",
       "504  0.10959   0.0  11.93   0.0  0.573  ...  1.0  273.0     21.0  393.45   6.48\n",
       "505  0.04741   0.0  11.93   0.0  0.573  ...  1.0  273.0     21.0  396.90   7.88\n",
       "\n",
       "[506 rows x 13 columns]"
      ]
     },
     "execution_count": 82,
     "metadata": {
      "tags": []
     },
     "output_type": "execute_result"
    }
   ],
   "source": [
    "import numpy as np\r\n",
    "import matplotlib.pylab as plt\r\n",
    "import pandas as pd\r\n",
    "from sklearn import datasets\r\n",
    "from sklearn import linear_model\r\n",
    "from sklearn.metrics import mean_squared_error, r2_score\r\n",
    "\r\n",
    "data = datasets.load_boston()\r\n",
    "df_x = pd.DataFrame(data.data,columns=data.feature_names)\r\n",
    "df_y = pd.Series(data.target)\r\n",
    "df_x"
   ]
  },
  {
   "cell_type": "markdown",
   "metadata": {
    "id": "8mXkz_u3Dm6U"
   },
   "source": [
    "Como solo nos interesa la variable CRIM, actualizamos el dataframe para solo tener la variable dependiente (precios de la vivienda) y la variable independiente (LSTAT).\r\n",
    "\r\n",
    "Posteriormente se realiza el gráfico en matplotlib para visualizar los datos, donde se puede observar una relación entre las variables."
   ]
  },
  {
   "cell_type": "code",
   "execution_count": 83,
   "metadata": {
    "colab": {
     "base_uri": "https://localhost:8080/",
     "height": 279
    },
    "id": "LFQyJNu9BuFx",
    "outputId": "0706844d-c024-41ee-f9b5-5e78eeceb1a6"
   },
   "outputs": [
    {
     "data": {
      "image/png": "[encoded data removed]",
      "text/plain": [
       "<Figure size 432x288 with 1 Axes>"
      ]
     },
     "metadata": {
      "needs_background": "light",
      "tags": []
     },
     "output_type": "display_data"
    }
   ],
   "source": [
    "X = np.array(df['LSTAT'])\r\n",
    "\r\n",
    "\r\n",
    "plt.scatter(X,df_y,s=10)\r\n",
    "plt.xlabel('LSTAT')\r\n",
    "plt.ylabel('PRICES')\r\n",
    "plt.show()"
   ]
  },
  {
   "cell_type": "markdown",
   "metadata": {
    "id": "4jlr_7RCHZ3-"
   },
   "source": [
    "De esta manerase procede a hacer la regresión lineal por medio de la libreria *sklearn* usando *linear_model*. Si bien es posible realizar la regresión lineal multiple con el dataset, se realizará únicamente con una variable para demostrar el método y visualizarlo."
   ]
  },
  {
   "cell_type": "code",
   "execution_count": 90,
   "metadata": {
    "colab": {
     "base_uri": "https://localhost:8080/"
    },
    "id": "vx3utUTFHcPi",
    "outputId": "bfe11710-2afa-45d5-d5e0-6bfb21b3f69b"
   },
   "outputs": [
    {
     "name": "stdout",
     "output_type": "stream",
     "text": [
      "Pendiente: -0.95\n",
      "Intercepto: 34.55\n",
      "R2: 0.54\n"
     ]
    }
   ],
   "source": [
    "# Inicializamos la regresión\r\n",
    "regr = linear_model.LinearRegression()\r\n",
    "\r\n",
    "# Hacemos el entrenamiento del modelo\r\n",
    "regr.fit(X.reshape(-1,1),df_y)\r\n",
    "\r\n",
    "#Finalmente se realiza la regresión\r\n",
    "y_pred = regr.predict(X.reshape(-1,1))\r\n",
    "\r\n",
    "print('Pendiente: %.2f'% regr.coef_[0])\r\n",
    "print('Intercepto: %.2f'% regr.intercept_)\r\n",
    "print('R2: %.2f' % r2_score(df_y, y_pred))"
   ]
  },
  {
   "cell_type": "markdown",
   "metadata": {
    "id": "MZAO8XwLJRdE"
   },
   "source": [
    "Finalmente, utilizando nuevamente **matplotlib** se visualiza la regresión lineal sobre los datos reales. De manera descriptiva se puede observar que si bien los datos parecen presentar algún tipo de linealidad, esta regresión no es adecuada para describir su comportamiento, lo cual tambien se puede observar mediante la métrica $R^{2}$, ya que su valor es aproximadamente $0.54$.\r\n",
    "\r\n"
   ]
  },
  {
   "cell_type": "code",
   "execution_count": 80,
   "metadata": {
    "colab": {
     "base_uri": "https://localhost:8080/",
     "height": 279
    },
    "id": "R3L4HP5UJhna",
    "outputId": "e17940c7-9fcb-4384-eccf-ecb57df7da9a"
   },
   "outputs": [
    {
     "data": {
      "image/png": "[encoded data removed]",
      "text/plain": [
       "<Figure size 432x288 with 1 Axes>"
      ]
     },
     "metadata": {
      "needs_background": "light",
      "tags": []
     },
     "output_type": "display_data"
    }
   ],
   "source": [
    "xx = np.arange(0,35,0.5)\r\n",
    "yy = regr.coef_[0]*xx+regr.intercept_\r\n",
    "\r\n",
    "plt.scatter(X,df_y,s=10,alpha=0.5)\r\n",
    "plt.plot(xx,yy,color='r')\r\n",
    "plt.xlabel('LSTAT')\r\n",
    "plt.ylabel('PRICES')\r\n",
    "plt.grid(alpha=0.5,ls='--')\r\n",
    "plt.show()"
   ]
  },
  {
   "cell_type": "markdown",
   "metadata": {
    "id": "X4m_Hqt_XY63"
   },
   "source": [
    "# 5. Conclusiones\r\n",
    "\r\n",
    "El modelo de regresión lineal al ser uno de los modelos más utilizados y más sencillos de implementar, se ha convertido en uno de los métodos más utilizados para describir relaciones entre variables. En este sentido, librerias como *sklearn* en Python han desarrollado herramientras que permiten hacer el modelamimento de manera rapida, sencilla y de manera adecuada. El ejemplo realizado logra presentar los anteriores aspectos, ya que, sin ser una relación completamente lineal, el algoritmo logra establecer la ecuación lineal con los parámetros estimados y además presenta una métrica como lo es $R^{2}$ que deja evaluar la presición del modelo. En este sentido, es posible realizar modelamientos lineales en Python ya sea para realizar una descripción de la variable o para realizar predicciones."
   ]
  },
  {
   "cell_type": "markdown",
   "metadata": {
    "id": "egteVFghdNnc"
   },
   "source": [
    "#6. Referencias\r\n",
    "\r\n",
    "- Draper, N., & Smith, H. (1998). Applied regression analysis (3rd ed., p. 15). New York: John Wiley & Sons.\r\n",
    "- Hocking, R. (2013). Methods and Applications of Linear Models: Regression and the Analysis of Variance (2nd ed.). John Wiley & Sons."
   ]
  }
 ],
 "metadata": {
  "colab": {
   "collapsed_sections": [],
   "name": "Tarea2_MiguelÁngel.ipynb",
   "provenance": []
  },
  "kernelspec": {
   "display_name": "Python 3",
   "language": "python",
   "name": "python3"
  },
  "language_info": {
   "codemirror_mode": {
    "name": "ipython",
    "version": 3
   },
   "file_extension": ".py",
   "mimetype": "text/x-python",
   "name": "python",
   "nbconvert_exporter": "python",
   "pygments_lexer": "ipython3",
   "version": "3.7.1"
  }
 },
 "nbformat": 4,
 "nbformat_minor": 2
}
