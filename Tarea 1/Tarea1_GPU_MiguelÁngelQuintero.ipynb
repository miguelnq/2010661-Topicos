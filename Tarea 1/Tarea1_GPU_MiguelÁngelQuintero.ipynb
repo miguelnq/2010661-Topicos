{
  "nbformat": 4,
  "nbformat_minor": 0,
  "metadata": {
    "colab": {
      "name": "Tarea1_GPU_MiguelÁngelQuintero.ipynb",
      "provenance": []
    },
    "kernelspec": {
      "name": "python3",
      "display_name": "Python 3"
    },
    "accelerator": "GPU"
  },
  "cells": [
    {
      "cell_type": "markdown",
      "metadata": {
        "id": "4s_dVciarHxn"
      },
      "source": [
        "**Tópicos Avanzados de Estadística**\r\n",
        "\r\n",
        "**Tarea 1 -  Parte GPU**\r\n",
        "\r\n",
        "**Nombre:** Miguel Ángel Quintero Martinez"
      ]
    },
    {
      "cell_type": "code",
      "metadata": {
        "id": "C5Evxq5YpL3n"
      },
      "source": [
        "import numpy as np\r\n",
        "import os\r\n",
        "import gzip\r\n",
        "\r\n",
        "def load_mnist(ruta, tipo='train'):\r\n",
        "\r\n",
        "\r\n",
        "    ruta_categorias = os.path.join(ruta, '%s-labels-idx1-ubyte.gz' % tipo)\r\n",
        "    ruta_imagenes = os.path.join(ruta, '%s-images-idx3-ubyte.gz' % tipo)\r\n",
        "    \r\n",
        "    with gzip.open(ruta_categorias, 'rb') as rut_cat:\r\n",
        "        etiquetas = np.frombuffer(rut_cat.read(), dtype=np.uint8, offset=8)\r\n",
        "\r\n",
        "    with gzip.open(ruta_imagenes, 'rb') as rut_imgs:\r\n",
        "        imagenes = np.frombuffer(rut_imgs.read(), dtype=np.uint8, offset=16).reshape(len(etiquetas), 784)\r\n",
        "\r\n",
        "    return imagenes, etiquetas"
      ],
      "execution_count": 1,
      "outputs": []
    },
    {
      "cell_type": "code",
      "metadata": {
        "colab": {
          "base_uri": "https://localhost:8080/"
        },
        "id": "L3CfvFdqpeHS",
        "outputId": "8762745c-20c7-448b-95a0-cee2439de4b4"
      },
      "source": [
        "from google.colab import drive\r\n",
        "drive.mount('/content/gdrive')\r\n",
        "\r\n",
        "ruta = 'gdrive/My Drive/Colab Notebooks/fashion_mnist_data'\r\n",
        "\r\n",
        "X_train, Y_train = load_mnist(ruta, tipo='train')\r\n",
        "X_test, Y_test = load_mnist(ruta, tipo='test')"
      ],
      "execution_count": 3,
      "outputs": [
        {
          "output_type": "stream",
          "text": [
            "Mounted at /content/gdrive\n"
          ],
          "name": "stdout"
        }
      ]
    },
    {
      "cell_type": "code",
      "metadata": {
        "id": "7nt9ppOupj3p"
      },
      "source": [
        "X_train = X_train[0:59904,:]\r\n",
        "X_test = X_test[0:9984,:]\r\n",
        "Y_train = Y_train[0:59904]\r\n",
        "Y_test = Y_test[0:9984]\r\n",
        "\r\n",
        "X_train = np.reshape(X_train,(59904,28,28,1))\r\n",
        "X_test = np.reshape(X_test,(9984,28,28,1))"
      ],
      "execution_count": 4,
      "outputs": []
    },
    {
      "cell_type": "code",
      "metadata": {
        "colab": {
          "base_uri": "https://localhost:8080/"
        },
        "id": "fAkfjdccpwJb",
        "outputId": "0eb00b89-92a8-448a-c61e-6f91b8be7d07"
      },
      "source": [
        "import tensorflow as tf\r\n",
        "print('Versión de TensorFlow: ' + tf.__version__)\r\n",
        "\r\n",
        "tf.random.set_seed(200)\r\n",
        "model = tf.keras.models.Sequential()\r\n",
        "model.add(tf.keras.layers.BatchNormalization(input_shape=X_train.shape[1:]))\r\n",
        "model.add(tf.keras.layers.Conv2D(64, (5, 5), padding='same', activation='elu'))\r\n",
        "model.add(tf.keras.layers.MaxPooling2D(pool_size=(2, 2), strides=(2,2)))\r\n",
        "model.add(tf.keras.layers.Dropout(0.25))\r\n",
        "\r\n",
        "model.add(tf.keras.layers.BatchNormalization(input_shape=X_train.shape[1:]))\r\n",
        "model.add(tf.keras.layers.Conv2D(128, (5, 5), padding='same', activation='elu'))\r\n",
        "model.add(tf.keras.layers.MaxPooling2D(pool_size=(2, 2)))\r\n",
        "model.add(tf.keras.layers.Dropout(0.25))\r\n",
        "\r\n",
        "model.add(tf.keras.layers.BatchNormalization(input_shape=X_train.shape[1:]))\r\n",
        "model.add(tf.keras.layers.Conv2D(256, (5, 5), padding='same', activation='elu'))\r\n",
        "model.add(tf.keras.layers.MaxPooling2D(pool_size=(2, 2), strides=(2,2)))\r\n",
        "model.add(tf.keras.layers.Dropout(0.25))\r\n",
        "\r\n",
        "model.add(tf.keras.layers.Flatten())\r\n",
        "model.add(tf.keras.layers.Dense(256))\r\n",
        "model.add(tf.keras.layers.Activation('elu'))\r\n",
        "model.add(tf.keras.layers.Dropout(0.5))\r\n",
        "model.add(tf.keras.layers.Dense(10))\r\n",
        "model.add(tf.keras.layers.Activation('softmax'))\r\n",
        "model.summary()\r\n",
        "\r\n",
        "model.compile(optimizer='adam',loss='sparse_categorical_crossentropy',metrics=['accuracy'])"
      ],
      "execution_count": 5,
      "outputs": [
        {
          "output_type": "stream",
          "text": [
            "Versión de TensorFlow: 2.4.1\n",
            "Model: \"sequential\"\n",
            "_________________________________________________________________\n",
            "Layer (type)                 Output Shape              Param #   \n",
            "=================================================================\n",
            "batch_normalization (BatchNo (None, 28, 28, 1)         4         \n",
            "_________________________________________________________________\n",
            "conv2d (Conv2D)              (None, 28, 28, 64)        1664      \n",
            "_________________________________________________________________\n",
            "max_pooling2d (MaxPooling2D) (None, 14, 14, 64)        0         \n",
            "_________________________________________________________________\n",
            "dropout (Dropout)            (None, 14, 14, 64)        0         \n",
            "_________________________________________________________________\n",
            "batch_normalization_1 (Batch (None, 14, 14, 64)        256       \n",
            "_________________________________________________________________\n",
            "conv2d_1 (Conv2D)            (None, 14, 14, 128)       204928    \n",
            "_________________________________________________________________\n",
            "max_pooling2d_1 (MaxPooling2 (None, 7, 7, 128)         0         \n",
            "_________________________________________________________________\n",
            "dropout_1 (Dropout)          (None, 7, 7, 128)         0         \n",
            "_________________________________________________________________\n",
            "batch_normalization_2 (Batch (None, 7, 7, 128)         512       \n",
            "_________________________________________________________________\n",
            "conv2d_2 (Conv2D)            (None, 7, 7, 256)         819456    \n",
            "_________________________________________________________________\n",
            "max_pooling2d_2 (MaxPooling2 (None, 3, 3, 256)         0         \n",
            "_________________________________________________________________\n",
            "dropout_2 (Dropout)          (None, 3, 3, 256)         0         \n",
            "_________________________________________________________________\n",
            "flatten (Flatten)            (None, 2304)              0         \n",
            "_________________________________________________________________\n",
            "dense (Dense)                (None, 256)               590080    \n",
            "_________________________________________________________________\n",
            "activation (Activation)      (None, 256)               0         \n",
            "_________________________________________________________________\n",
            "dropout_3 (Dropout)          (None, 256)               0         \n",
            "_________________________________________________________________\n",
            "dense_1 (Dense)              (None, 10)                2570      \n",
            "_________________________________________________________________\n",
            "activation_1 (Activation)    (None, 10)                0         \n",
            "=================================================================\n",
            "Total params: 1,619,470\n",
            "Trainable params: 1,619,084\n",
            "Non-trainable params: 386\n",
            "_________________________________________________________________\n"
          ],
          "name": "stdout"
        }
      ]
    },
    {
      "cell_type": "code",
      "metadata": {
        "colab": {
          "base_uri": "https://localhost:8080/"
        },
        "id": "gioUaEETpzKR",
        "outputId": "8c5d40aa-c999-4943-f02a-dab58f0e6469"
      },
      "source": [
        "nombre_gpu = tf.test.gpu_device_name()\r\n",
        "if nombre_gpu != '/device:GPU:0':\r\n",
        "  raise SystemError('GPU no encontrada')\r\n",
        "print('GPU encontrada: {}'.format(nombre_gpu))"
      ],
      "execution_count": 6,
      "outputs": [
        {
          "output_type": "stream",
          "text": [
            "GPU encontrada: /device:GPU:0\n"
          ],
          "name": "stdout"
        }
      ]
    },
    {
      "cell_type": "code",
      "metadata": {
        "colab": {
          "base_uri": "https://localhost:8080/"
        },
        "id": "sg1csFuRp44x",
        "outputId": "1ed04559-dea0-4e52-9ac4-0251cc9dc1e2"
      },
      "source": [
        "import timeit\r\n",
        "\r\n",
        "def entrenamiento_gpu():\r\n",
        "  with tf.device('/device:GPU:0'):\r\n",
        "    model.fit(X_train,Y_train,validation_data=(X_test,Y_test),batch_size=128,epochs=2,verbose=1)\r\n",
        "  \r\n",
        "  return None\r\n",
        "\r\n",
        "gpu_time = timeit.timeit('entrenamiento_gpu()', number=1, setup='from __main__ import entrenamiento_gpu')"
      ],
      "execution_count": 7,
      "outputs": [
        {
          "output_type": "stream",
          "text": [
            "Epoch 1/2\n",
            "468/468 [==============================] - 41s 18ms/step - loss: 1.0144 - accuracy: 0.7078 - val_loss: 0.3873 - val_accuracy: 0.8607\n",
            "Epoch 2/2\n",
            "468/468 [==============================] - 8s 17ms/step - loss: 0.4123 - accuracy: 0.8551 - val_loss: 0.3300 - val_accuracy: 0.8857\n"
          ],
          "name": "stdout"
        }
      ]
    },
    {
      "cell_type": "code",
      "metadata": {
        "colab": {
          "base_uri": "https://localhost:8080/"
        },
        "id": "szw1YrJHp8HK",
        "outputId": "b37fd370-4370-4f04-84f4-9f5107d77780"
      },
      "source": [
        "print('Tiempo de entrenamiento: ' + str(gpu_time) + ' segundos')"
      ],
      "execution_count": 8,
      "outputs": [
        {
          "output_type": "stream",
          "text": [
            "Tiempo de entrenamiento: 49.429486054999984 segundos\n"
          ],
          "name": "stdout"
        }
      ]
    }
  ]
}